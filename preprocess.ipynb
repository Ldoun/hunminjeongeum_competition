{
 "cells": [
  {
   "cell_type": "code",
   "execution_count": 1,
   "metadata": {},
   "outputs": [],
   "source": [
    "import pandas as pd"
   ]
  },
  {
   "cell_type": "code",
   "execution_count": 27,
   "metadata": {},
   "outputs": [
    {
     "data": {
      "text/html": [
       "<div>\n",
       "<style scoped>\n",
       "    .dataframe tbody tr th:only-of-type {\n",
       "        vertical-align: middle;\n",
       "    }\n",
       "\n",
       "    .dataframe tbody tr th {\n",
       "        vertical-align: top;\n",
       "    }\n",
       "\n",
       "    .dataframe thead th {\n",
       "        text-align: right;\n",
       "    }\n",
       "</style>\n",
       "<table border=\"1\" class=\"dataframe\">\n",
       "  <thead>\n",
       "    <tr style=\"text-align: right;\">\n",
       "      <th></th>\n",
       "      <th>file</th>\n",
       "      <th>label</th>\n",
       "      <th>length</th>\n",
       "    </tr>\n",
       "  </thead>\n",
       "  <tbody>\n",
       "    <tr>\n",
       "      <th>0</th>\n",
       "      <td>KsponSpeech_03/KsponSpeech_0363/KsponSpeech_36...</td>\n",
       "      <td>나도 생각은 아 남한테 보여주기 위해서 독립 영화를 본다고 생각을 한 적은 없거든.</td>\n",
       "      <td>9.368</td>\n",
       "    </tr>\n",
       "    <tr>\n",
       "      <th>1</th>\n",
       "      <td>KsponSpeech_04/KsponSpeech_0387/KsponSpeech_38...</td>\n",
       "      <td>아</td>\n",
       "      <td>2.007</td>\n",
       "    </tr>\n",
       "    <tr>\n",
       "      <th>2</th>\n",
       "      <td>KsponSpeech_01/KsponSpeech_0012/KsponSpeech_01...</td>\n",
       "      <td>근데 한양대 논술 썼는데 그냥 붙었대.</td>\n",
       "      <td>2.810</td>\n",
       "    </tr>\n",
       "    <tr>\n",
       "      <th>3</th>\n",
       "      <td>KsponSpeech_03/KsponSpeech_0350/KsponSpeech_34...</td>\n",
       "      <td>근데 두 번을 망해가지고 한 번은 이제 잘 봐야 된단 말이야?</td>\n",
       "      <td>5.112</td>\n",
       "    </tr>\n",
       "    <tr>\n",
       "      <th>4</th>\n",
       "      <td>KsponSpeech_01/KsponSpeech_0023/KsponSpeech_02...</td>\n",
       "      <td>그래서 기억력이 그래도 언니가 가면 알아보고 아직 정신 몸은 그냥 그렇게 누워계셔두...</td>\n",
       "      <td>10.031</td>\n",
       "    </tr>\n",
       "  </tbody>\n",
       "</table>\n",
       "</div>"
      ],
      "text/plain": [
       "                                                file  \\\n",
       "0  KsponSpeech_03/KsponSpeech_0363/KsponSpeech_36...   \n",
       "1  KsponSpeech_04/KsponSpeech_0387/KsponSpeech_38...   \n",
       "2  KsponSpeech_01/KsponSpeech_0012/KsponSpeech_01...   \n",
       "3  KsponSpeech_03/KsponSpeech_0350/KsponSpeech_34...   \n",
       "4  KsponSpeech_01/KsponSpeech_0023/KsponSpeech_02...   \n",
       "\n",
       "                                               label  length  \n",
       "0     나도 생각은 아 남한테 보여주기 위해서 독립 영화를 본다고 생각을 한 적은 없거든.   9.368  \n",
       "1                                                  아   2.007  \n",
       "2                              근데 한양대 논술 썼는데 그냥 붙었대.   2.810  \n",
       "3                 근데 두 번을 망해가지고 한 번은 이제 잘 봐야 된단 말이야?   5.112  \n",
       "4  그래서 기억력이 그래도 언니가 가면 알아보고 아직 정신 몸은 그냥 그렇게 누워계셔두...  10.031  "
      ]
     },
     "execution_count": 27,
     "metadata": {},
     "output_type": "execute_result"
    }
   ],
   "source": [
    "data = pd.read_csv('data/stt1.kspon.200000.tsv',sep='\\t')\n",
    "data.head()"
   ]
  },
  {
   "cell_type": "code",
   "execution_count": 28,
   "metadata": {},
   "outputs": [],
   "source": [
    "modified_file = []\n",
    "for i,d in data.iterrows():\n",
    "    file = d['file'].split('/')[-1]\n",
    "    file = '/workspace/stt1_kspon/' + file\n",
    "    modified_file.append(file)"
   ]
  },
  {
   "cell_type": "code",
   "execution_count": 29,
   "metadata": {},
   "outputs": [],
   "source": [
    "data['file'] = pd.Series(modified_file)"
   ]
  },
  {
   "cell_type": "code",
   "execution_count": 30,
   "metadata": {},
   "outputs": [
    {
     "data": {
      "text/html": [
       "<div>\n",
       "<style scoped>\n",
       "    .dataframe tbody tr th:only-of-type {\n",
       "        vertical-align: middle;\n",
       "    }\n",
       "\n",
       "    .dataframe tbody tr th {\n",
       "        vertical-align: top;\n",
       "    }\n",
       "\n",
       "    .dataframe thead th {\n",
       "        text-align: right;\n",
       "    }\n",
       "</style>\n",
       "<table border=\"1\" class=\"dataframe\">\n",
       "  <thead>\n",
       "    <tr style=\"text-align: right;\">\n",
       "      <th></th>\n",
       "      <th>file</th>\n",
       "      <th>label</th>\n",
       "      <th>length</th>\n",
       "    </tr>\n",
       "  </thead>\n",
       "  <tbody>\n",
       "    <tr>\n",
       "      <th>0</th>\n",
       "      <td>/workspace/stt1_kspon/KsponSpeech_362777.wav</td>\n",
       "      <td>나도 생각은 아 남한테 보여주기 위해서 독립 영화를 본다고 생각을 한 적은 없거든.</td>\n",
       "      <td>9.368</td>\n",
       "    </tr>\n",
       "    <tr>\n",
       "      <th>1</th>\n",
       "      <td>/workspace/stt1_kspon/KsponSpeech_386376.wav</td>\n",
       "      <td>아</td>\n",
       "      <td>2.007</td>\n",
       "    </tr>\n",
       "    <tr>\n",
       "      <th>2</th>\n",
       "      <td>/workspace/stt1_kspon/KsponSpeech_011453.wav</td>\n",
       "      <td>근데 한양대 논술 썼는데 그냥 붙었대.</td>\n",
       "      <td>2.810</td>\n",
       "    </tr>\n",
       "    <tr>\n",
       "      <th>3</th>\n",
       "      <td>/workspace/stt1_kspon/KsponSpeech_349903.wav</td>\n",
       "      <td>근데 두 번을 망해가지고 한 번은 이제 잘 봐야 된단 말이야?</td>\n",
       "      <td>5.112</td>\n",
       "    </tr>\n",
       "    <tr>\n",
       "      <th>4</th>\n",
       "      <td>/workspace/stt1_kspon/KsponSpeech_022296.wav</td>\n",
       "      <td>그래서 기억력이 그래도 언니가 가면 알아보고 아직 정신 몸은 그냥 그렇게 누워계셔두...</td>\n",
       "      <td>10.031</td>\n",
       "    </tr>\n",
       "  </tbody>\n",
       "</table>\n",
       "</div>"
      ],
      "text/plain": [
       "                                           file  \\\n",
       "0  /workspace/stt1_kspon/KsponSpeech_362777.wav   \n",
       "1  /workspace/stt1_kspon/KsponSpeech_386376.wav   \n",
       "2  /workspace/stt1_kspon/KsponSpeech_011453.wav   \n",
       "3  /workspace/stt1_kspon/KsponSpeech_349903.wav   \n",
       "4  /workspace/stt1_kspon/KsponSpeech_022296.wav   \n",
       "\n",
       "                                               label  length  \n",
       "0     나도 생각은 아 남한테 보여주기 위해서 독립 영화를 본다고 생각을 한 적은 없거든.   9.368  \n",
       "1                                                  아   2.007  \n",
       "2                              근데 한양대 논술 썼는데 그냥 붙었대.   2.810  \n",
       "3                 근데 두 번을 망해가지고 한 번은 이제 잘 봐야 된단 말이야?   5.112  \n",
       "4  그래서 기억력이 그래도 언니가 가면 알아보고 아직 정신 몸은 그냥 그렇게 누워계셔두...  10.031  "
      ]
     },
     "execution_count": 30,
     "metadata": {},
     "output_type": "execute_result"
    }
   ],
   "source": [
    "data.head()"
   ]
  },
  {
   "cell_type": "code",
   "execution_count": 31,
   "metadata": {},
   "outputs": [],
   "source": [
    "data.to_csv('data/stt1_kspon.csv',index=False)"
   ]
  },
  {
   "cell_type": "code",
   "execution_count": 23,
   "metadata": {},
   "outputs": [
    {
     "data": {
      "text/html": [
       "<div>\n",
       "<style scoped>\n",
       "    .dataframe tbody tr th:only-of-type {\n",
       "        vertical-align: middle;\n",
       "    }\n",
       "\n",
       "    .dataframe tbody tr th {\n",
       "        vertical-align: top;\n",
       "    }\n",
       "\n",
       "    .dataframe thead th {\n",
       "        text-align: right;\n",
       "    }\n",
       "</style>\n",
       "<table border=\"1\" class=\"dataframe\">\n",
       "  <thead>\n",
       "    <tr style=\"text-align: right;\">\n",
       "      <th></th>\n",
       "      <th>file</th>\n",
       "      <th>label</th>\n",
       "      <th>length</th>\n",
       "    </tr>\n",
       "  </thead>\n",
       "  <tbody>\n",
       "    <tr>\n",
       "      <th>0</th>\n",
       "      <td>KsponSpeech_01/KsponSpeech_0028/KsponSpeech_02...</td>\n",
       "      <td>아 그래? 육군.</td>\n",
       "      <td>1.976</td>\n",
       "    </tr>\n",
       "    <tr>\n",
       "      <th>1</th>\n",
       "      <td>KsponSpeech_01/KsponSpeech_0048/KsponSpeech_04...</td>\n",
       "      <td>봤어. 장난 아니던데?</td>\n",
       "      <td>2.928</td>\n",
       "    </tr>\n",
       "    <tr>\n",
       "      <th>2</th>\n",
       "      <td>KsponSpeech_03/KsponSpeech_0309/KsponSpeech_30...</td>\n",
       "      <td>다른 데서 붙고</td>\n",
       "      <td>1.188</td>\n",
       "    </tr>\n",
       "    <tr>\n",
       "      <th>3</th>\n",
       "      <td>KsponSpeech_01/KsponSpeech_0028/KsponSpeech_02...</td>\n",
       "      <td>헷갈리네.</td>\n",
       "      <td>1.501</td>\n",
       "    </tr>\n",
       "    <tr>\n",
       "      <th>4</th>\n",
       "      <td>KsponSpeech_03/KsponSpeech_0260/KsponSpeech_25...</td>\n",
       "      <td>응 식 할 때 보고 그다음에도 두 번 정도?</td>\n",
       "      <td>6.120</td>\n",
       "    </tr>\n",
       "  </tbody>\n",
       "</table>\n",
       "</div>"
      ],
      "text/plain": [
       "                                                file  \\\n",
       "0  KsponSpeech_01/KsponSpeech_0028/KsponSpeech_02...   \n",
       "1  KsponSpeech_01/KsponSpeech_0048/KsponSpeech_04...   \n",
       "2  KsponSpeech_03/KsponSpeech_0309/KsponSpeech_30...   \n",
       "3  KsponSpeech_01/KsponSpeech_0028/KsponSpeech_02...   \n",
       "4  KsponSpeech_03/KsponSpeech_0260/KsponSpeech_25...   \n",
       "\n",
       "                      label  length  \n",
       "0                 아 그래? 육군.   1.976  \n",
       "1              봤어. 장난 아니던데?   2.928  \n",
       "2                  다른 데서 붙고   1.188  \n",
       "3                     헷갈리네.   1.501  \n",
       "4  응 식 할 때 보고 그다음에도 두 번 정도?   6.120  "
      ]
     },
     "execution_count": 23,
     "metadata": {},
     "output_type": "execute_result"
    }
   ],
   "source": [
    "data = pd.read_csv('data/stt2.kspon.150000.tsv',sep='\\t')\n",
    "data.head()"
   ]
  },
  {
   "cell_type": "code",
   "execution_count": 24,
   "metadata": {},
   "outputs": [],
   "source": [
    "modified_file = []\n",
    "for i,d in data.iterrows():\n",
    "    file = d['file'].split('/')[-1]\n",
    "    file = '/workspace/stt2_kspon/' + file\n",
    "    modified_file.append(file)"
   ]
  },
  {
   "cell_type": "code",
   "execution_count": 25,
   "metadata": {},
   "outputs": [],
   "source": [
    "data['file'] = pd.Series(modified_file)"
   ]
  },
  {
   "cell_type": "code",
   "execution_count": 26,
   "metadata": {},
   "outputs": [],
   "source": [
    "data.to_csv('data/stt2_kspon.csv',index=False)"
   ]
  },
  {
   "cell_type": "code",
   "execution_count": 22,
   "metadata": {},
   "outputs": [
    {
     "name": "stdout",
     "output_type": "stream",
     "text": [
      "stt2_kspon/KsponSpeech_027952.wav\n"
     ]
    }
   ],
   "source": [
    "for i in data['file'].values:\n",
    "    print(i)\n",
    "    break"
   ]
  },
  {
   "cell_type": "code",
   "execution_count": null,
   "metadata": {},
   "outputs": [],
   "source": []
  }
 ],
 "metadata": {
  "interpreter": {
   "hash": "1fe7180f16a01de96823e93bda457d4e40d3b0679de1f58ea5112e24f453d406"
  },
  "kernelspec": {
   "display_name": "Python 3.8.5 64-bit ('torch': conda)",
   "language": "python",
   "name": "python3"
  },
  "language_info": {
   "codemirror_mode": {
    "name": "ipython",
    "version": 3
   },
   "file_extension": ".py",
   "mimetype": "text/x-python",
   "name": "python",
   "nbconvert_exporter": "python",
   "pygments_lexer": "ipython3",
   "version": "3.8.5"
  },
  "orig_nbformat": 4
 },
 "nbformat": 4,
 "nbformat_minor": 2
}
